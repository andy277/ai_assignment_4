{
 "cells": [
  {
   "cell_type": "code",
   "execution_count": 1,
   "id": "9d1dfbf9-be8d-4a32-ba46-05c7f477cb25",
   "metadata": {
    "ExecuteTime": {
     "end_time": "2025-02-09T19:01:53.686316Z",
     "start_time": "2025-02-09T19:01:53.683981Z"
    }
   },
   "outputs": [],
   "source": [
    "import pandas as pd\n",
    "import os\n",
    "import numpy as np\n",
    "from datetime import date\n",
    "from sklearn.model_selection import train_test_split, cross_val_score\n",
    "from sklearn.ensemble import RandomForestClassifier\n",
    "from sklearn.tree import DecisionTreeClassifier\n",
    "from sklearn.metrics import accuracy_score"
   ]
  },
  {
   "cell_type": "markdown",
   "id": "cc38f9ac-c252-4f29-8be2-4e632da9ccbb",
   "metadata": {},
   "source": [
    "# 1. Data Processing"
   ]
  },
  {
   "cell_type": "code",
   "execution_count": 2,
   "id": "8c8dfae3b417a7b4",
   "metadata": {
    "ExecuteTime": {
     "end_time": "2025-02-09T19:01:53.689897Z",
     "start_time": "2025-02-09T19:01:53.687321Z"
    }
   },
   "outputs": [],
   "source": [
    "file_path = \"data/House_Prices.csv\""
   ]
  },
  {
   "cell_type": "code",
   "execution_count": 3,
   "id": "b93800f4d66024a9",
   "metadata": {
    "ExecuteTime": {
     "end_time": "2025-02-09T19:01:53.713438Z",
     "start_time": "2025-02-09T19:01:53.700014Z"
    }
   },
   "outputs": [
    {
     "name": "stdout",
     "output_type": "stream",
     "text": [
      "Shape: (10659, 13)\n"
     ]
    },
    {
     "data": {
      "text/html": [
       "<div>\n",
       "<style scoped>\n",
       "    .dataframe tbody tr th:only-of-type {\n",
       "        vertical-align: middle;\n",
       "    }\n",
       "\n",
       "    .dataframe tbody tr th {\n",
       "        vertical-align: top;\n",
       "    }\n",
       "\n",
       "    .dataframe thead th {\n",
       "        text-align: right;\n",
       "    }\n",
       "</style>\n",
       "<table border=\"1\" class=\"dataframe\">\n",
       "  <thead>\n",
       "    <tr style=\"text-align: right;\">\n",
       "      <th></th>\n",
       "      <th>Unnamed: 0</th>\n",
       "      <th>Record</th>\n",
       "      <th>Sale_amount</th>\n",
       "      <th>Sale_date</th>\n",
       "      <th>Beds</th>\n",
       "      <th>Baths</th>\n",
       "      <th>Sqft_home</th>\n",
       "      <th>Sqft_lot</th>\n",
       "      <th>Type</th>\n",
       "      <th>Build_year</th>\n",
       "      <th>Town</th>\n",
       "      <th>University</th>\n",
       "      <th>Type2</th>\n",
       "    </tr>\n",
       "  </thead>\n",
       "  <tbody>\n",
       "    <tr>\n",
       "      <th>0</th>\n",
       "      <td>1</td>\n",
       "      <td>1</td>\n",
       "      <td>295000.0</td>\n",
       "      <td>42521</td>\n",
       "      <td>5</td>\n",
       "      <td>3.00</td>\n",
       "      <td>2020</td>\n",
       "      <td>38332.8</td>\n",
       "      <td>3</td>\n",
       "      <td>1976</td>\n",
       "      <td>1</td>\n",
       "      <td>10</td>\n",
       "      <td>3</td>\n",
       "    </tr>\n",
       "    <tr>\n",
       "      <th>1</th>\n",
       "      <td>2</td>\n",
       "      <td>2</td>\n",
       "      <td>240000.0</td>\n",
       "      <td>42541</td>\n",
       "      <td>4</td>\n",
       "      <td>2.00</td>\n",
       "      <td>1498</td>\n",
       "      <td>54014.4</td>\n",
       "      <td>3</td>\n",
       "      <td>2002</td>\n",
       "      <td>1</td>\n",
       "      <td>10</td>\n",
       "      <td>3</td>\n",
       "    </tr>\n",
       "    <tr>\n",
       "      <th>2</th>\n",
       "      <td>3</td>\n",
       "      <td>3</td>\n",
       "      <td>385000.0</td>\n",
       "      <td>42521</td>\n",
       "      <td>5</td>\n",
       "      <td>4.00</td>\n",
       "      <td>4000</td>\n",
       "      <td>85813.2</td>\n",
       "      <td>3</td>\n",
       "      <td>2001</td>\n",
       "      <td>1</td>\n",
       "      <td>10</td>\n",
       "      <td>3</td>\n",
       "    </tr>\n",
       "    <tr>\n",
       "      <th>3</th>\n",
       "      <td>4</td>\n",
       "      <td>4</td>\n",
       "      <td>268000.0</td>\n",
       "      <td>42472</td>\n",
       "      <td>3</td>\n",
       "      <td>2.50</td>\n",
       "      <td>2283</td>\n",
       "      <td>118918.8</td>\n",
       "      <td>3</td>\n",
       "      <td>1972</td>\n",
       "      <td>1</td>\n",
       "      <td>10</td>\n",
       "      <td>3</td>\n",
       "    </tr>\n",
       "    <tr>\n",
       "      <th>4</th>\n",
       "      <td>5</td>\n",
       "      <td>5</td>\n",
       "      <td>186000.0</td>\n",
       "      <td>42465</td>\n",
       "      <td>3</td>\n",
       "      <td>1.25</td>\n",
       "      <td>1527</td>\n",
       "      <td>15681.6</td>\n",
       "      <td>3</td>\n",
       "      <td>1975</td>\n",
       "      <td>1</td>\n",
       "      <td>10</td>\n",
       "      <td>3</td>\n",
       "    </tr>\n",
       "  </tbody>\n",
       "</table>\n",
       "</div>"
      ],
      "text/plain": [
       "   Unnamed: 0  Record  Sale_amount  Sale_date  Beds  Baths  Sqft_home  \\\n",
       "0           1       1     295000.0      42521     5   3.00       2020   \n",
       "1           2       2     240000.0      42541     4   2.00       1498   \n",
       "2           3       3     385000.0      42521     5   4.00       4000   \n",
       "3           4       4     268000.0      42472     3   2.50       2283   \n",
       "4           5       5     186000.0      42465     3   1.25       1527   \n",
       "\n",
       "   Sqft_lot  Type  Build_year  Town  University  Type2  \n",
       "0   38332.8     3        1976     1          10      3  \n",
       "1   54014.4     3        2002     1          10      3  \n",
       "2   85813.2     3        2001     1          10      3  \n",
       "3  118918.8     3        1972     1          10      3  \n",
       "4   15681.6     3        1975     1          10      3  "
      ]
     },
     "execution_count": 3,
     "metadata": {},
     "output_type": "execute_result"
    }
   ],
   "source": [
    "houses = pd.read_csv(file_path)\n",
    "\n",
    "print(\"Shape:\", houses.shape)\n",
    "houses.head()"
   ]
  },
  {
   "cell_type": "markdown",
   "id": "c8845c41-863f-43fb-9339-dd4a45a741b7",
   "metadata": {},
   "source": [
    "#### How many rows are there?\n",
    "- There are 10659 rows in total.\n",
    "\n",
    "#### Looks like there are some extra columns with row markers that appeared over the cleaning process.  How many \"actual\" columns are there?\n",
    "- Without counting the \"Unnamed: 0\" column, there are 12 actual columns.\n",
    "\n",
    "#### Why are the dates just numbers?  Why is this ok?\n",
    "- In Excel, dates are stored as **serial numbers** so that it is easier to perform calculations with them.\n",
    "- These numbers represent how many days have passed since a specific start date **(January 1, 1900)**."
   ]
  },
  {
   "cell_type": "code",
   "execution_count": 4,
   "id": "f3a6a75a67210c54",
   "metadata": {
    "ExecuteTime": {
     "end_time": "2025-02-09T19:01:53.743782Z",
     "start_time": "2025-02-09T19:01:53.737647Z"
    }
   },
   "outputs": [
    {
     "data": {
      "text/html": [
       "<div>\n",
       "<style scoped>\n",
       "    .dataframe tbody tr th:only-of-type {\n",
       "        vertical-align: middle;\n",
       "    }\n",
       "\n",
       "    .dataframe tbody tr th {\n",
       "        vertical-align: top;\n",
       "    }\n",
       "\n",
       "    .dataframe thead th {\n",
       "        text-align: right;\n",
       "    }\n",
       "</style>\n",
       "<table border=\"1\" class=\"dataframe\">\n",
       "  <thead>\n",
       "    <tr style=\"text-align: right;\">\n",
       "      <th></th>\n",
       "      <th>Sale_amount</th>\n",
       "      <th>Sale_date</th>\n",
       "      <th>Beds</th>\n",
       "      <th>Baths</th>\n",
       "      <th>Sqft_home</th>\n",
       "      <th>Sqft_lot</th>\n",
       "      <th>Type</th>\n",
       "      <th>Build_year</th>\n",
       "      <th>Town</th>\n",
       "    </tr>\n",
       "  </thead>\n",
       "  <tbody>\n",
       "    <tr>\n",
       "      <th>0</th>\n",
       "      <td>295000.0</td>\n",
       "      <td>42521</td>\n",
       "      <td>5</td>\n",
       "      <td>3.00</td>\n",
       "      <td>2020</td>\n",
       "      <td>38332.8</td>\n",
       "      <td>3</td>\n",
       "      <td>1976</td>\n",
       "      <td>1</td>\n",
       "    </tr>\n",
       "    <tr>\n",
       "      <th>1</th>\n",
       "      <td>240000.0</td>\n",
       "      <td>42541</td>\n",
       "      <td>4</td>\n",
       "      <td>2.00</td>\n",
       "      <td>1498</td>\n",
       "      <td>54014.4</td>\n",
       "      <td>3</td>\n",
       "      <td>2002</td>\n",
       "      <td>1</td>\n",
       "    </tr>\n",
       "    <tr>\n",
       "      <th>2</th>\n",
       "      <td>385000.0</td>\n",
       "      <td>42521</td>\n",
       "      <td>5</td>\n",
       "      <td>4.00</td>\n",
       "      <td>4000</td>\n",
       "      <td>85813.2</td>\n",
       "      <td>3</td>\n",
       "      <td>2001</td>\n",
       "      <td>1</td>\n",
       "    </tr>\n",
       "    <tr>\n",
       "      <th>3</th>\n",
       "      <td>268000.0</td>\n",
       "      <td>42472</td>\n",
       "      <td>3</td>\n",
       "      <td>2.50</td>\n",
       "      <td>2283</td>\n",
       "      <td>118918.8</td>\n",
       "      <td>3</td>\n",
       "      <td>1972</td>\n",
       "      <td>1</td>\n",
       "    </tr>\n",
       "    <tr>\n",
       "      <th>4</th>\n",
       "      <td>186000.0</td>\n",
       "      <td>42465</td>\n",
       "      <td>3</td>\n",
       "      <td>1.25</td>\n",
       "      <td>1527</td>\n",
       "      <td>15681.6</td>\n",
       "      <td>3</td>\n",
       "      <td>1975</td>\n",
       "      <td>1</td>\n",
       "    </tr>\n",
       "    <tr>\n",
       "      <th>...</th>\n",
       "      <td>...</td>\n",
       "      <td>...</td>\n",
       "      <td>...</td>\n",
       "      <td>...</td>\n",
       "      <td>...</td>\n",
       "      <td>...</td>\n",
       "      <td>...</td>\n",
       "      <td>...</td>\n",
       "      <td>...</td>\n",
       "    </tr>\n",
       "    <tr>\n",
       "      <th>10654</th>\n",
       "      <td>320000.0</td>\n",
       "      <td>42528</td>\n",
       "      <td>3</td>\n",
       "      <td>2.00</td>\n",
       "      <td>1870</td>\n",
       "      <td>13068.0</td>\n",
       "      <td>3</td>\n",
       "      <td>2012</td>\n",
       "      <td>50</td>\n",
       "    </tr>\n",
       "    <tr>\n",
       "      <th>10655</th>\n",
       "      <td>359100.0</td>\n",
       "      <td>42468</td>\n",
       "      <td>5</td>\n",
       "      <td>4.50</td>\n",
       "      <td>2119</td>\n",
       "      <td>11325.6</td>\n",
       "      <td>3</td>\n",
       "      <td>2013</td>\n",
       "      <td>50</td>\n",
       "    </tr>\n",
       "    <tr>\n",
       "      <th>10656</th>\n",
       "      <td>349646.0</td>\n",
       "      <td>42534</td>\n",
       "      <td>3</td>\n",
       "      <td>1.75</td>\n",
       "      <td>1949</td>\n",
       "      <td>14374.8</td>\n",
       "      <td>3</td>\n",
       "      <td>2015</td>\n",
       "      <td>50</td>\n",
       "    </tr>\n",
       "    <tr>\n",
       "      <th>10657</th>\n",
       "      <td>288000.0</td>\n",
       "      <td>42476</td>\n",
       "      <td>4</td>\n",
       "      <td>4.00</td>\n",
       "      <td>2710</td>\n",
       "      <td>10890.0</td>\n",
       "      <td>3</td>\n",
       "      <td>2012</td>\n",
       "      <td>50</td>\n",
       "    </tr>\n",
       "    <tr>\n",
       "      <th>10658</th>\n",
       "      <td>330000.0</td>\n",
       "      <td>42552</td>\n",
       "      <td>4</td>\n",
       "      <td>3.00</td>\n",
       "      <td>2702</td>\n",
       "      <td>13068.0</td>\n",
       "      <td>3</td>\n",
       "      <td>2012</td>\n",
       "      <td>50</td>\n",
       "    </tr>\n",
       "  </tbody>\n",
       "</table>\n",
       "<p>10659 rows × 9 columns</p>\n",
       "</div>"
      ],
      "text/plain": [
       "       Sale_amount  Sale_date  Beds  Baths  Sqft_home  Sqft_lot  Type  \\\n",
       "0         295000.0      42521     5   3.00       2020   38332.8     3   \n",
       "1         240000.0      42541     4   2.00       1498   54014.4     3   \n",
       "2         385000.0      42521     5   4.00       4000   85813.2     3   \n",
       "3         268000.0      42472     3   2.50       2283  118918.8     3   \n",
       "4         186000.0      42465     3   1.25       1527   15681.6     3   \n",
       "...            ...        ...   ...    ...        ...       ...   ...   \n",
       "10654     320000.0      42528     3   2.00       1870   13068.0     3   \n",
       "10655     359100.0      42468     5   4.50       2119   11325.6     3   \n",
       "10656     349646.0      42534     3   1.75       1949   14374.8     3   \n",
       "10657     288000.0      42476     4   4.00       2710   10890.0     3   \n",
       "10658     330000.0      42552     4   3.00       2702   13068.0     3   \n",
       "\n",
       "       Build_year  Town  \n",
       "0            1976     1  \n",
       "1            2002     1  \n",
       "2            2001     1  \n",
       "3            1972     1  \n",
       "4            1975     1  \n",
       "...           ...   ...  \n",
       "10654        2012    50  \n",
       "10655        2013    50  \n",
       "10656        2015    50  \n",
       "10657        2012    50  \n",
       "10658        2012    50  \n",
       "\n",
       "[10659 rows x 9 columns]"
      ]
     },
     "execution_count": 4,
     "metadata": {},
     "output_type": "execute_result"
    }
   ],
   "source": [
    "# Dropping unused columns\n",
    "df = houses.drop(columns = [\"Unnamed: 0\", \"Record\", \"University\", \"Type2\"])\n",
    "df"
   ]
  },
  {
   "cell_type": "markdown",
   "id": "04085f6b-35e0-49ca-8ed1-424e340d5b89",
   "metadata": {},
   "source": [
    "# 2. Create Classification Models"
   ]
  },
  {
   "cell_type": "code",
   "execution_count": 5,
   "id": "7bc404aad18fe577",
   "metadata": {
    "ExecuteTime": {
     "end_time": "2025-02-09T19:01:53.781384Z",
     "start_time": "2025-02-09T19:01:53.778625Z"
    }
   },
   "outputs": [],
   "source": [
    "## Set features and target\n",
    "X = df.drop(columns=\"Town\")\n",
    "y = df[\"Town\"]"
   ]
  },
  {
   "cell_type": "code",
   "execution_count": 6,
   "id": "ea240a4c1417b857",
   "metadata": {
    "ExecuteTime": {
     "end_time": "2025-02-09T19:01:53.843588Z",
     "start_time": "2025-02-09T19:01:53.839493Z"
    }
   },
   "outputs": [],
   "source": [
    "## Train, test split\n",
    "X_train, X_test, y_train, y_test = train_test_split(X, y, test_size=0.2, random_state=42)"
   ]
  },
  {
   "cell_type": "markdown",
   "id": "dc724d51-7242-41df-bfe0-975c5616197f",
   "metadata": {},
   "source": [
    "# Decision Tree Classification Model"
   ]
  },
  {
   "cell_type": "code",
   "execution_count": 7,
   "id": "7e2b0851-7509-4d7a-8ce6-4b1accf0fb82",
   "metadata": {},
   "outputs": [],
   "source": [
    "def optimize_decision_tree(X_train, y_train, X_test, y_test):\n",
    "    # Initialize variables\n",
    "    best_model = None\n",
    "    best_model_info = None\n",
    "    best_accuracy = 0\n",
    "\n",
    "    ## Explore 3 differemt hyperparameters\n",
    "    min_samples_split_range = [2, 5, 10, 20]\n",
    "    depths = list(range(1, 16))\n",
    "    criteria = ['gini', 'entropy']\n",
    "\n",
    "    \n",
    "    # Using nested loops to try out different parameters to find the best model with lowest error\n",
    "    for depth in depths:\n",
    "       for min_samples_split in min_samples_split_range:\n",
    "           for criterion in criteria:\n",
    "                # Train the model\n",
    "                model = DecisionTreeClassifier(max_depth=depth, random_state=42, min_samples_split=min_samples_split, criterion=criterion)\n",
    "\n",
    "                cv_scores = cross_val_score(model, X_train, y_train, cv=5)\n",
    "                avg_cv_scores = cv_scores.mean()\n",
    "               \n",
    "                model.fit(X_train, y_train)\n",
    "                \n",
    "                # Predicting\n",
    "                train_pred = model.predict(X_train)\n",
    "                test_pred = model.predict(X_test)\n",
    "\n",
    "                #Calculate accuracy\n",
    "                train_accuracy = accuracy_score(y_train, train_pred)\n",
    "                test_accuracy = accuracy_score(y_test, test_pred)\n",
    "                \n",
    "                \n",
    "                if test_accuracy > best_accuracy:\n",
    "                    best_accuracy = test_accuracy\n",
    "                    best_model = model\n",
    "                    best_model_info = {\n",
    "                        \"min_samples_split\": min_samples_split,\n",
    "                        \"depth\": depth,\n",
    "                        \"criteria\": criterion,\n",
    "                        \"cv_scores\": cv_scores,\n",
    "                        \"avg_cv_scores\": avg_cv_scores,\n",
    "                        \"train_accuracy\": train_accuracy,\n",
    "                        \"test_accuracy\": test_accuracy\n",
    "                        \n",
    "                    }\n",
    "    \n",
    "    # Return the best model  \n",
    "    return best_model, best_model_info"
   ]
  },
  {
   "cell_type": "markdown",
   "id": "c33f269d-5f3a-472b-b047-69434c24609c",
   "metadata": {},
   "source": [
    "### Note:\n",
    "- I took this code from our previous assignment and adjusted it a little bit in order to find the best possible Decision Tree model"
   ]
  },
  {
   "cell_type": "markdown",
   "id": "beaf7c3c-48b0-43b8-b8f3-83a2271dfd5e",
   "metadata": {
    "ExecuteTime": {
     "end_time": "2025-02-09T19:01:53.876656Z",
     "start_time": "2025-02-09T19:01:53.874592Z"
    }
   },
   "source": [
    "# Random Forest Classification Model"
   ]
  },
  {
   "cell_type": "code",
   "execution_count": 8,
   "id": "b6d49eefa1b7b72e",
   "metadata": {
    "ExecuteTime": {
     "end_time": "2025-02-09T19:09:45.463076Z",
     "start_time": "2025-02-09T19:01:53.892108Z"
    }
   },
   "outputs": [],
   "source": [
    "def optimize_rf(X_train, y_train, X_test, y_test):\n",
    "    n_estimators_options = [50, 100, 200, 500]\n",
    "    max_depth_options = range(1, 16, 2)\n",
    "\n",
    "    best_accuracy = 0\n",
    "    best_model_info = None\n",
    "    best_model = None\n",
    "    \n",
    "    \n",
    "    for n_estimators in n_estimators_options:\n",
    "        for max_depth in max_depth_options:\n",
    "            model = RandomForestClassifier(n_estimators=n_estimators, max_depth=max_depth, random_state=42)\n",
    "            \n",
    "            cv_scores = cross_val_score(model, X_train, y_train, cv=5)\n",
    "            avg_cv_scores = cv_scores.mean()\n",
    "            \n",
    "            model.fit(X_train, y_train)\n",
    "            test_score = model.score(X_test, y_test)\n",
    "            \n",
    "            train_pred = model.predict(X_train) \n",
    "            test_pred = model.predict(X_test)\n",
    "            \n",
    "            train_accuracy = accuracy_score(y_train, train_pred)\n",
    "            test_accuracy = accuracy_score(y_test, test_pred)\n",
    "            \n",
    "            if test_accuracy > best_accuracy:\n",
    "                best_model = model\n",
    "                best_model_info = {\n",
    "                    \"n_estimators\": n_estimators,\n",
    "                    \"max_depth\": max_depth,\n",
    "                    \"test_score\": test_score,\n",
    "                    \"cv_scores\": cv_scores,\n",
    "                    \"avg_cv_scores\": avg_cv_scores,\n",
    "                    \"train_accuracy\": train_accuracy,\n",
    "                    \"test_accuracy\": test_accuracy\n",
    "                }\n",
    "    return best_model, best_model_info"
   ]
  },
  {
   "cell_type": "code",
   "execution_count": 9,
   "id": "a84b0437ed6f434e",
   "metadata": {
    "ExecuteTime": {
     "end_time": "2025-02-09T19:09:45.476965Z",
     "start_time": "2025-02-09T19:09:45.473685Z"
    }
   },
   "outputs": [
    {
     "name": "stdout",
     "output_type": "stream",
     "text": [
      "CPU times: total: 3min 10s\n",
      "Wall time: 3min 40s\n"
     ]
    },
    {
     "data": {
      "text/plain": [
       "{'n_estimators': 500,\n",
       " 'max_depth': 15,\n",
       " 'test_score': 0.3972795497185741,\n",
       " 'cv_scores': array([0.40797186, 0.40973036, 0.38533724, 0.39178886, 0.41935484]),\n",
       " 'avg_cv_scores': 0.40283663316980267,\n",
       " 'train_accuracy': 0.988858918728744,\n",
       " 'test_accuracy': 0.3972795497185741}"
      ]
     },
     "execution_count": 9,
     "metadata": {},
     "output_type": "execute_result"
    }
   ],
   "source": [
    "%%time\n",
    "best_model_rf, best_model_info_rf = optimize_rf(X_train, y_train, X_test, y_test)\n",
    "best_model_info_rf"
   ]
  },
  {
   "cell_type": "code",
   "execution_count": 10,
   "id": "33f8c63d-a3d2-4a8f-8237-9d15894f35e2",
   "metadata": {},
   "outputs": [
    {
     "name": "stdout",
     "output_type": "stream",
     "text": [
      "CPU times: total: 26.3 s\n",
      "Wall time: 32.1 s\n"
     ]
    },
    {
     "data": {
      "text/plain": [
       "{'min_samples_split': 10,\n",
       " 'depth': 13,\n",
       " 'criteria': 'gini',\n",
       " 'cv_scores': array([0.28780774, 0.29249707, 0.2914956 , 0.28621701, 0.28504399]),\n",
       " 'avg_cv_scores': 0.28861228096110675,\n",
       " 'train_accuracy': 0.5644423595637387,\n",
       " 'test_accuracy': 0.2870544090056285}"
      ]
     },
     "execution_count": 10,
     "metadata": {},
     "output_type": "execute_result"
    }
   ],
   "source": [
    "%%time\n",
    "best_model_dc, best_model_info_dc = optimize_decision_tree(X_train, y_train, X_test, y_test)\n",
    "best_model_info_dc"
   ]
  },
  {
   "cell_type": "markdown",
   "id": "14da311e-7600-4bfc-8648-2cdbc90cd7ef",
   "metadata": {},
   "source": [
    "### Model Explanation\n",
    "For both models, I picked out the most reasonable parameter options and loop through to ultimately find the best model for each classification algorithm. After optimizing both **Decision Tree** and **Random Forest** models, I compared their performance and decided to use **Random Forest** for the Lee's house prediction. \n",
    "#### Decision Tree:\n",
    "- **Train Accuracy**: 0.56\n",
    "- **Test Accuracy**: 0.29\n",
    "- **Average Cross-Validation Score**: 0.39\n",
    "\n",
    "#### Random Forest:\n",
    "- **Train Accuracy**: 0.99\n",
    "- **Test Accuracy**: 0.40\n",
    "- **Average Cross-Validation Score**: 0.40\n",
    "\n",
    "After comparing the performance of both models, I picked **Random Forest** as my model for the prediction because its accuracy is around 15-20% better than **Decision Tree**.\n",
    "\n",
    "#### Was your testing accuracy as good as your training?  What did you think happened?\n",
    "The Random Forest model achieved a **training accuracy of 0.99** but a much lower **testing accuracy of 0.40**, indicating **overfitting**. This means the model memorized the training data instead of learning general patterns, leading to poor performance on unseen data. The average **cross-validation score of 0.40** confirms this issue."
   ]
  },
  {
   "cell_type": "markdown",
   "id": "f5330f02-f79c-447a-9be4-e8f07a030007",
   "metadata": {},
   "source": [
    "# 3. Making Prediction"
   ]
  },
  {
   "cell_type": "markdown",
   "id": "0b1035f1-4f0d-461e-b9f1-d9784a270b08",
   "metadata": {},
   "source": [
    "## Lee's House\n",
    "Lee purchased a 1,450 sq ft Single Family home (coded as 3) on 2018-04-11, (43201) for $350,000.  The house has 3 bedrooms and 2 baths.  It was built in 1992, and is on a 40,000 square foot lot.  What town do you think it is in?  Use your model to predict."
   ]
  },
  {
   "cell_type": "code",
   "execution_count": 11,
   "id": "e25978b40a2cebba",
   "metadata": {
    "ExecuteTime": {
     "end_time": "2025-02-09T19:09:45.623620Z",
     "start_time": "2025-02-09T19:09:45.620504Z"
    }
   },
   "outputs": [],
   "source": [
    "# Creating Lee House DataFrame\n",
    "lee_house = pd.DataFrame({\n",
    "    'Sale_amount': [350000],\n",
    "    'Sale_date': [43201],\n",
    "    'Beds': [3],\n",
    "    'Baths': [2],\n",
    "    'Sqft_home': [1450],\n",
    "    'Sqft_lot': [40000],\n",
    "    'Type': [3],\n",
    "    'Build_year': [1992]\n",
    "})"
   ]
  },
  {
   "cell_type": "code",
   "execution_count": 12,
   "id": "61d3b6c3b4beb209",
   "metadata": {
    "ExecuteTime": {
     "end_time": "2025-02-09T19:09:45.664296Z",
     "start_time": "2025-02-09T19:09:45.640570Z"
    }
   },
   "outputs": [
    {
     "name": "stdout",
     "output_type": "stream",
     "text": [
      "Predicted Town:  15\n"
     ]
    }
   ],
   "source": [
    "# Using Random Forest to predict\n",
    "predicted_town = best_model_rf.predict(lee_house)\n",
    "print(\"Predicted Town: \", predicted_town[0])"
   ]
  }
 ],
 "metadata": {
  "kernelspec": {
   "display_name": "Python 3 (ipykernel)",
   "language": "python",
   "name": "python3"
  },
  "language_info": {
   "codemirror_mode": {
    "name": "ipython",
    "version": 3
   },
   "file_extension": ".py",
   "mimetype": "text/x-python",
   "name": "python",
   "nbconvert_exporter": "python",
   "pygments_lexer": "ipython3",
   "version": "3.12.7"
  }
 },
 "nbformat": 4,
 "nbformat_minor": 5
}
