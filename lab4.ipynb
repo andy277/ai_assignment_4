{
 "cells": [
  {
   "cell_type": "code",
   "id": "9d1dfbf9-be8d-4a32-ba46-05c7f477cb25",
   "metadata": {
    "ExecuteTime": {
     "end_time": "2025-02-09T05:44:42.236890Z",
     "start_time": "2025-02-09T05:44:31.540820Z"
    }
   },
   "source": [
    "import pandas as pd\n",
    "import os\n",
    "import numpy as np\n",
    "from datetime import date"
   ],
   "outputs": [],
   "execution_count": 1
  },
  {
   "metadata": {
    "ExecuteTime": {
     "end_time": "2025-02-09T05:44:42.563518Z",
     "start_time": "2025-02-09T05:44:42.556541Z"
    }
   },
   "cell_type": "code",
   "source": "file_path = \"data/House_Prices.csv\"",
   "id": "8c8dfae3b417a7b4",
   "outputs": [],
   "execution_count": 2
  },
  {
   "metadata": {
    "ExecuteTime": {
     "end_time": "2025-02-09T05:44:44.104587Z",
     "start_time": "2025-02-09T05:44:42.867226Z"
    }
   },
   "cell_type": "code",
   "source": [
    "houses = pd.read_csv(file_path)\n",
    "\n",
    "print(\"Shape:\", houses.shape)\n",
    "houses.head()"
   ],
   "id": "b93800f4d66024a9",
   "outputs": [
    {
     "name": "stdout",
     "output_type": "stream",
     "text": [
      "Shape: (10659, 13)\n"
     ]
    },
    {
     "data": {
      "text/plain": [
       "   Unnamed: 0  Record  Sale_amount  Sale_date  Beds  Baths  Sqft_home  \\\n",
       "0           1       1     295000.0      42521     5   3.00       2020   \n",
       "1           2       2     240000.0      42541     4   2.00       1498   \n",
       "2           3       3     385000.0      42521     5   4.00       4000   \n",
       "3           4       4     268000.0      42472     3   2.50       2283   \n",
       "4           5       5     186000.0      42465     3   1.25       1527   \n",
       "\n",
       "   Sqft_lot  Type  Build_year  Town  University  Type2  \n",
       "0   38332.8     3        1976     1          10      3  \n",
       "1   54014.4     3        2002     1          10      3  \n",
       "2   85813.2     3        2001     1          10      3  \n",
       "3  118918.8     3        1972     1          10      3  \n",
       "4   15681.6     3        1975     1          10      3  "
      ],
      "text/html": [
       "<div>\n",
       "<style scoped>\n",
       "    .dataframe tbody tr th:only-of-type {\n",
       "        vertical-align: middle;\n",
       "    }\n",
       "\n",
       "    .dataframe tbody tr th {\n",
       "        vertical-align: top;\n",
       "    }\n",
       "\n",
       "    .dataframe thead th {\n",
       "        text-align: right;\n",
       "    }\n",
       "</style>\n",
       "<table border=\"1\" class=\"dataframe\">\n",
       "  <thead>\n",
       "    <tr style=\"text-align: right;\">\n",
       "      <th></th>\n",
       "      <th>Unnamed: 0</th>\n",
       "      <th>Record</th>\n",
       "      <th>Sale_amount</th>\n",
       "      <th>Sale_date</th>\n",
       "      <th>Beds</th>\n",
       "      <th>Baths</th>\n",
       "      <th>Sqft_home</th>\n",
       "      <th>Sqft_lot</th>\n",
       "      <th>Type</th>\n",
       "      <th>Build_year</th>\n",
       "      <th>Town</th>\n",
       "      <th>University</th>\n",
       "      <th>Type2</th>\n",
       "    </tr>\n",
       "  </thead>\n",
       "  <tbody>\n",
       "    <tr>\n",
       "      <th>0</th>\n",
       "      <td>1</td>\n",
       "      <td>1</td>\n",
       "      <td>295000.0</td>\n",
       "      <td>42521</td>\n",
       "      <td>5</td>\n",
       "      <td>3.00</td>\n",
       "      <td>2020</td>\n",
       "      <td>38332.8</td>\n",
       "      <td>3</td>\n",
       "      <td>1976</td>\n",
       "      <td>1</td>\n",
       "      <td>10</td>\n",
       "      <td>3</td>\n",
       "    </tr>\n",
       "    <tr>\n",
       "      <th>1</th>\n",
       "      <td>2</td>\n",
       "      <td>2</td>\n",
       "      <td>240000.0</td>\n",
       "      <td>42541</td>\n",
       "      <td>4</td>\n",
       "      <td>2.00</td>\n",
       "      <td>1498</td>\n",
       "      <td>54014.4</td>\n",
       "      <td>3</td>\n",
       "      <td>2002</td>\n",
       "      <td>1</td>\n",
       "      <td>10</td>\n",
       "      <td>3</td>\n",
       "    </tr>\n",
       "    <tr>\n",
       "      <th>2</th>\n",
       "      <td>3</td>\n",
       "      <td>3</td>\n",
       "      <td>385000.0</td>\n",
       "      <td>42521</td>\n",
       "      <td>5</td>\n",
       "      <td>4.00</td>\n",
       "      <td>4000</td>\n",
       "      <td>85813.2</td>\n",
       "      <td>3</td>\n",
       "      <td>2001</td>\n",
       "      <td>1</td>\n",
       "      <td>10</td>\n",
       "      <td>3</td>\n",
       "    </tr>\n",
       "    <tr>\n",
       "      <th>3</th>\n",
       "      <td>4</td>\n",
       "      <td>4</td>\n",
       "      <td>268000.0</td>\n",
       "      <td>42472</td>\n",
       "      <td>3</td>\n",
       "      <td>2.50</td>\n",
       "      <td>2283</td>\n",
       "      <td>118918.8</td>\n",
       "      <td>3</td>\n",
       "      <td>1972</td>\n",
       "      <td>1</td>\n",
       "      <td>10</td>\n",
       "      <td>3</td>\n",
       "    </tr>\n",
       "    <tr>\n",
       "      <th>4</th>\n",
       "      <td>5</td>\n",
       "      <td>5</td>\n",
       "      <td>186000.0</td>\n",
       "      <td>42465</td>\n",
       "      <td>3</td>\n",
       "      <td>1.25</td>\n",
       "      <td>1527</td>\n",
       "      <td>15681.6</td>\n",
       "      <td>3</td>\n",
       "      <td>1975</td>\n",
       "      <td>1</td>\n",
       "      <td>10</td>\n",
       "      <td>3</td>\n",
       "    </tr>\n",
       "  </tbody>\n",
       "</table>\n",
       "</div>"
      ]
     },
     "execution_count": 3,
     "metadata": {},
     "output_type": "execute_result"
    }
   ],
   "execution_count": 3
  }
 ],
 "metadata": {
  "kernelspec": {
   "display_name": "Python 3 (ipykernel)",
   "language": "python",
   "name": "python3"
  },
  "language_info": {
   "codemirror_mode": {
    "name": "ipython",
    "version": 3
   },
   "file_extension": ".py",
   "mimetype": "text/x-python",
   "name": "python",
   "nbconvert_exporter": "python",
   "pygments_lexer": "ipython3",
   "version": "3.12.7"
  }
 },
 "nbformat": 4,
 "nbformat_minor": 5
}
