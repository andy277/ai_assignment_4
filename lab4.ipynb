{
 "cells": [
  {
   "metadata": {},
   "cell_type": "code",
   "outputs": [],
   "execution_count": null,
   "source": [
    "import pandas as pd\n",
    "import os\n",
    "import numpy as np\n",
    "from datetime import date\n",
    "from sklearn.model_selection import train_test_split, cross_val_score\n",
    "from sklearn.ensemble import RandomForestClassifier\n",
    "from sklearn.metrics import accuracy_score"
   ],
   "id": "83361f65f597bfea"
  },
  {
   "metadata": {
    "ExecuteTime": {
     "end_time": "2025-02-09T19:01:53.689897Z",
     "start_time": "2025-02-09T19:01:53.687321Z"
    }
   },
   "cell_type": "code",
   "source": "file_path = \"data/House_Prices.csv\"",
   "id": "8c8dfae3b417a7b4",
   "outputs": [],
   "execution_count": 96
  },
  {
   "metadata": {
    "ExecuteTime": {
     "end_time": "2025-02-09T19:01:53.713438Z",
     "start_time": "2025-02-09T19:01:53.700014Z"
    }
   },
   "cell_type": "code",
   "source": [
    "houses = pd.read_csv(file_path)\n",
    "\n",
    "print(\"Shape:\", houses.shape)"
   ],
   "id": "b93800f4d66024a9",
   "outputs": [
    {
     "name": "stdout",
     "output_type": "stream",
     "text": [
      "Shape: (10659, 13)\n"
     ]
    },
    {
     "data": {
      "text/plain": [
       "   Unnamed: 0  Record  Sale_amount  Sale_date  Beds  Baths  Sqft_home  \\\n",
       "0           1       1     295000.0      42521     5   3.00       2020   \n",
       "1           2       2     240000.0      42541     4   2.00       1498   \n",
       "2           3       3     385000.0      42521     5   4.00       4000   \n",
       "3           4       4     268000.0      42472     3   2.50       2283   \n",
       "4           5       5     186000.0      42465     3   1.25       1527   \n",
       "\n",
       "   Sqft_lot  Type  Build_year  Town  University  Type2  \n",
       "0   38332.8     3        1976     1          10      3  \n",
       "1   54014.4     3        2002     1          10      3  \n",
       "2   85813.2     3        2001     1          10      3  \n",
       "3  118918.8     3        1972     1          10      3  \n",
       "4   15681.6     3        1975     1          10      3  "
      ],
      "text/html": [
       "<div>\n",
       "<style scoped>\n",
       "    .dataframe tbody tr th:only-of-type {\n",
       "        vertical-align: middle;\n",
       "    }\n",
       "\n",
       "    .dataframe tbody tr th {\n",
       "        vertical-align: top;\n",
       "    }\n",
       "\n",
       "    .dataframe thead th {\n",
       "        text-align: right;\n",
       "    }\n",
       "</style>\n",
       "<table border=\"1\" class=\"dataframe\">\n",
       "  <thead>\n",
       "    <tr style=\"text-align: right;\">\n",
       "      <th></th>\n",
       "      <th>Unnamed: 0</th>\n",
       "      <th>Record</th>\n",
       "      <th>Sale_amount</th>\n",
       "      <th>Sale_date</th>\n",
       "      <th>Beds</th>\n",
       "      <th>Baths</th>\n",
       "      <th>Sqft_home</th>\n",
       "      <th>Sqft_lot</th>\n",
       "      <th>Type</th>\n",
       "      <th>Build_year</th>\n",
       "      <th>Town</th>\n",
       "      <th>University</th>\n",
       "      <th>Type2</th>\n",
       "    </tr>\n",
       "  </thead>\n",
       "  <tbody>\n",
       "    <tr>\n",
       "      <th>0</th>\n",
       "      <td>1</td>\n",
       "      <td>1</td>\n",
       "      <td>295000.0</td>\n",
       "      <td>42521</td>\n",
       "      <td>5</td>\n",
       "      <td>3.00</td>\n",
       "      <td>2020</td>\n",
       "      <td>38332.8</td>\n",
       "      <td>3</td>\n",
       "      <td>1976</td>\n",
       "      <td>1</td>\n",
       "      <td>10</td>\n",
       "      <td>3</td>\n",
       "    </tr>\n",
       "    <tr>\n",
       "      <th>1</th>\n",
       "      <td>2</td>\n",
       "      <td>2</td>\n",
       "      <td>240000.0</td>\n",
       "      <td>42541</td>\n",
       "      <td>4</td>\n",
       "      <td>2.00</td>\n",
       "      <td>1498</td>\n",
       "      <td>54014.4</td>\n",
       "      <td>3</td>\n",
       "      <td>2002</td>\n",
       "      <td>1</td>\n",
       "      <td>10</td>\n",
       "      <td>3</td>\n",
       "    </tr>\n",
       "    <tr>\n",
       "      <th>2</th>\n",
       "      <td>3</td>\n",
       "      <td>3</td>\n",
       "      <td>385000.0</td>\n",
       "      <td>42521</td>\n",
       "      <td>5</td>\n",
       "      <td>4.00</td>\n",
       "      <td>4000</td>\n",
       "      <td>85813.2</td>\n",
       "      <td>3</td>\n",
       "      <td>2001</td>\n",
       "      <td>1</td>\n",
       "      <td>10</td>\n",
       "      <td>3</td>\n",
       "    </tr>\n",
       "    <tr>\n",
       "      <th>3</th>\n",
       "      <td>4</td>\n",
       "      <td>4</td>\n",
       "      <td>268000.0</td>\n",
       "      <td>42472</td>\n",
       "      <td>3</td>\n",
       "      <td>2.50</td>\n",
       "      <td>2283</td>\n",
       "      <td>118918.8</td>\n",
       "      <td>3</td>\n",
       "      <td>1972</td>\n",
       "      <td>1</td>\n",
       "      <td>10</td>\n",
       "      <td>3</td>\n",
       "    </tr>\n",
       "    <tr>\n",
       "      <th>4</th>\n",
       "      <td>5</td>\n",
       "      <td>5</td>\n",
       "      <td>186000.0</td>\n",
       "      <td>42465</td>\n",
       "      <td>3</td>\n",
       "      <td>1.25</td>\n",
       "      <td>1527</td>\n",
       "      <td>15681.6</td>\n",
       "      <td>3</td>\n",
       "      <td>1975</td>\n",
       "      <td>1</td>\n",
       "      <td>10</td>\n",
       "      <td>3</td>\n",
       "    </tr>\n",
       "  </tbody>\n",
       "</table>\n",
       "</div>"
      ]
     },
     "execution_count": 97,
     "metadata": {},
     "output_type": "execute_result"
    }
   ],
   "execution_count": 97
  },
  {
   "metadata": {},
   "cell_type": "markdown",
   "source": [
    "## How many rows are there?\n",
    "10659 rows\n"
   ],
   "id": "aff940c74165d570"
  },
  {
   "metadata": {},
   "cell_type": "code",
   "outputs": [],
   "execution_count": null,
   "source": "houses.head()",
   "id": "ffb83be8ca5ac392"
  },
  {
   "metadata": {
    "ExecuteTime": {
     "end_time": "2025-02-09T19:01:53.743782Z",
     "start_time": "2025-02-09T19:01:53.737647Z"
    }
   },
   "cell_type": "code",
   "source": [
    "df = houses.drop(columns = [\"Unnamed: 0\", \"Record\", \"University\", \"Type2\"])\n",
    "df"
   ],
   "id": "f3a6a75a67210c54",
   "outputs": [
    {
     "data": {
      "text/plain": [
       "       Sale_amount  Sale_date  Beds  Baths  Sqft_home  Sqft_lot  Type  \\\n",
       "0         295000.0      42521     5   3.00       2020   38332.8     3   \n",
       "1         240000.0      42541     4   2.00       1498   54014.4     3   \n",
       "2         385000.0      42521     5   4.00       4000   85813.2     3   \n",
       "3         268000.0      42472     3   2.50       2283  118918.8     3   \n",
       "4         186000.0      42465     3   1.25       1527   15681.6     3   \n",
       "...            ...        ...   ...    ...        ...       ...   ...   \n",
       "10654     320000.0      42528     3   2.00       1870   13068.0     3   \n",
       "10655     359100.0      42468     5   4.50       2119   11325.6     3   \n",
       "10656     349646.0      42534     3   1.75       1949   14374.8     3   \n",
       "10657     288000.0      42476     4   4.00       2710   10890.0     3   \n",
       "10658     330000.0      42552     4   3.00       2702   13068.0     3   \n",
       "\n",
       "       Build_year  Town  \n",
       "0            1976     1  \n",
       "1            2002     1  \n",
       "2            2001     1  \n",
       "3            1972     1  \n",
       "4            1975     1  \n",
       "...           ...   ...  \n",
       "10654        2012    50  \n",
       "10655        2013    50  \n",
       "10656        2015    50  \n",
       "10657        2012    50  \n",
       "10658        2012    50  \n",
       "\n",
       "[10659 rows x 9 columns]"
      ],
      "text/html": [
       "<div>\n",
       "<style scoped>\n",
       "    .dataframe tbody tr th:only-of-type {\n",
       "        vertical-align: middle;\n",
       "    }\n",
       "\n",
       "    .dataframe tbody tr th {\n",
       "        vertical-align: top;\n",
       "    }\n",
       "\n",
       "    .dataframe thead th {\n",
       "        text-align: right;\n",
       "    }\n",
       "</style>\n",
       "<table border=\"1\" class=\"dataframe\">\n",
       "  <thead>\n",
       "    <tr style=\"text-align: right;\">\n",
       "      <th></th>\n",
       "      <th>Sale_amount</th>\n",
       "      <th>Sale_date</th>\n",
       "      <th>Beds</th>\n",
       "      <th>Baths</th>\n",
       "      <th>Sqft_home</th>\n",
       "      <th>Sqft_lot</th>\n",
       "      <th>Type</th>\n",
       "      <th>Build_year</th>\n",
       "      <th>Town</th>\n",
       "    </tr>\n",
       "  </thead>\n",
       "  <tbody>\n",
       "    <tr>\n",
       "      <th>0</th>\n",
       "      <td>295000.0</td>\n",
       "      <td>42521</td>\n",
       "      <td>5</td>\n",
       "      <td>3.00</td>\n",
       "      <td>2020</td>\n",
       "      <td>38332.8</td>\n",
       "      <td>3</td>\n",
       "      <td>1976</td>\n",
       "      <td>1</td>\n",
       "    </tr>\n",
       "    <tr>\n",
       "      <th>1</th>\n",
       "      <td>240000.0</td>\n",
       "      <td>42541</td>\n",
       "      <td>4</td>\n",
       "      <td>2.00</td>\n",
       "      <td>1498</td>\n",
       "      <td>54014.4</td>\n",
       "      <td>3</td>\n",
       "      <td>2002</td>\n",
       "      <td>1</td>\n",
       "    </tr>\n",
       "    <tr>\n",
       "      <th>2</th>\n",
       "      <td>385000.0</td>\n",
       "      <td>42521</td>\n",
       "      <td>5</td>\n",
       "      <td>4.00</td>\n",
       "      <td>4000</td>\n",
       "      <td>85813.2</td>\n",
       "      <td>3</td>\n",
       "      <td>2001</td>\n",
       "      <td>1</td>\n",
       "    </tr>\n",
       "    <tr>\n",
       "      <th>3</th>\n",
       "      <td>268000.0</td>\n",
       "      <td>42472</td>\n",
       "      <td>3</td>\n",
       "      <td>2.50</td>\n",
       "      <td>2283</td>\n",
       "      <td>118918.8</td>\n",
       "      <td>3</td>\n",
       "      <td>1972</td>\n",
       "      <td>1</td>\n",
       "    </tr>\n",
       "    <tr>\n",
       "      <th>4</th>\n",
       "      <td>186000.0</td>\n",
       "      <td>42465</td>\n",
       "      <td>3</td>\n",
       "      <td>1.25</td>\n",
       "      <td>1527</td>\n",
       "      <td>15681.6</td>\n",
       "      <td>3</td>\n",
       "      <td>1975</td>\n",
       "      <td>1</td>\n",
       "    </tr>\n",
       "    <tr>\n",
       "      <th>...</th>\n",
       "      <td>...</td>\n",
       "      <td>...</td>\n",
       "      <td>...</td>\n",
       "      <td>...</td>\n",
       "      <td>...</td>\n",
       "      <td>...</td>\n",
       "      <td>...</td>\n",
       "      <td>...</td>\n",
       "      <td>...</td>\n",
       "    </tr>\n",
       "    <tr>\n",
       "      <th>10654</th>\n",
       "      <td>320000.0</td>\n",
       "      <td>42528</td>\n",
       "      <td>3</td>\n",
       "      <td>2.00</td>\n",
       "      <td>1870</td>\n",
       "      <td>13068.0</td>\n",
       "      <td>3</td>\n",
       "      <td>2012</td>\n",
       "      <td>50</td>\n",
       "    </tr>\n",
       "    <tr>\n",
       "      <th>10655</th>\n",
       "      <td>359100.0</td>\n",
       "      <td>42468</td>\n",
       "      <td>5</td>\n",
       "      <td>4.50</td>\n",
       "      <td>2119</td>\n",
       "      <td>11325.6</td>\n",
       "      <td>3</td>\n",
       "      <td>2013</td>\n",
       "      <td>50</td>\n",
       "    </tr>\n",
       "    <tr>\n",
       "      <th>10656</th>\n",
       "      <td>349646.0</td>\n",
       "      <td>42534</td>\n",
       "      <td>3</td>\n",
       "      <td>1.75</td>\n",
       "      <td>1949</td>\n",
       "      <td>14374.8</td>\n",
       "      <td>3</td>\n",
       "      <td>2015</td>\n",
       "      <td>50</td>\n",
       "    </tr>\n",
       "    <tr>\n",
       "      <th>10657</th>\n",
       "      <td>288000.0</td>\n",
       "      <td>42476</td>\n",
       "      <td>4</td>\n",
       "      <td>4.00</td>\n",
       "      <td>2710</td>\n",
       "      <td>10890.0</td>\n",
       "      <td>3</td>\n",
       "      <td>2012</td>\n",
       "      <td>50</td>\n",
       "    </tr>\n",
       "    <tr>\n",
       "      <th>10658</th>\n",
       "      <td>330000.0</td>\n",
       "      <td>42552</td>\n",
       "      <td>4</td>\n",
       "      <td>3.00</td>\n",
       "      <td>2702</td>\n",
       "      <td>13068.0</td>\n",
       "      <td>3</td>\n",
       "      <td>2012</td>\n",
       "      <td>50</td>\n",
       "    </tr>\n",
       "  </tbody>\n",
       "</table>\n",
       "<p>10659 rows × 9 columns</p>\n",
       "</div>"
      ]
     },
     "execution_count": 98,
     "metadata": {},
     "output_type": "execute_result"
    }
   ],
   "execution_count": 98
  },
  {
   "metadata": {
    "ExecuteTime": {
     "end_time": "2025-02-09T19:01:53.781384Z",
     "start_time": "2025-02-09T19:01:53.778625Z"
    }
   },
   "cell_type": "code",
   "source": [
    "## Set features and target\n",
    "X = df.drop(columns=\"Town\")\n",
    "y = df[\"Town\"]"
   ],
   "id": "7bc404aad18fe577",
   "outputs": [],
   "execution_count": 99
  },
  {
   "metadata": {
    "ExecuteTime": {
     "end_time": "2025-02-09T19:01:53.843588Z",
     "start_time": "2025-02-09T19:01:53.839493Z"
    }
   },
   "cell_type": "code",
   "source": [
    "## Train, test split\n",
    "X_train, X_test, y_train, y_test = train_test_split(X, y, test_size=0.2, random_state=42)"
   ],
   "id": "ea240a4c1417b857",
   "outputs": [],
   "execution_count": 100
  },
  {
   "metadata": {
    "ExecuteTime": {
     "end_time": "2025-02-09T19:01:53.876656Z",
     "start_time": "2025-02-09T19:01:53.874592Z"
    }
   },
   "cell_type": "code",
   "source": [
    "n_estimators_options = [50, 100, 200, 500, 1000]\n",
    "max_depth_options = range(1, 16, 2)\n"
   ],
   "id": "66a906e0ac321b38",
   "outputs": [],
   "execution_count": 101
  },
  {
   "metadata": {
    "ExecuteTime": {
     "end_time": "2025-02-09T19:09:45.463076Z",
     "start_time": "2025-02-09T19:01:53.892108Z"
    }
   },
   "cell_type": "code",
   "source": [
    "%%time\n",
    "best_accuracy = 0\n",
    "best_model_info = None\n",
    "best_model = None\n",
    "\n",
    "\n",
    "for n_estimators in n_estimators_options:\n",
    "    for max_depth in max_depth_options:\n",
    "        model = RandomForestClassifier(n_estimators=n_estimators, max_depth=max_depth, random_state=42)\n",
    "        \n",
    "        cv_scores = cross_val_score(model, X_train, y_train, cv=5)\n",
    "        avg_cv_scores = cv_scores.mean()\n",
    "        \n",
    "        model.fit(X_train, y_train)\n",
    "        test_score = model.score(X_test, y_test)\n",
    "        \n",
    "        train_pred = model.predict(X_train) \n",
    "        test_pred = model.predict(X_test)\n",
    "        \n",
    "        train_accuracy = accuracy_score(y_train, train_pred)\n",
    "        test_accuracy = accuracy_score(y_test, test_pred)\n",
    "        \n",
    "        if test_accuracy > best_accuracy:\n",
    "            best_model = model\n",
    "            best_model_info = {\n",
    "                \"n_estimators\": n_estimators,\n",
    "                \"max_depth\": max_depth,\n",
    "                \"test_score\": test_score,\n",
    "                \"cv_scores\": cv_scores,\n",
    "                \"avg_cv_scores\": avg_cv_scores,\n",
    "                \"train_accuracy\": train_accuracy,\n",
    "                \"test_accuracy\": test_accuracy\n",
    "            }"
   ],
   "id": "b6d49eefa1b7b72e",
   "outputs": [
    {
     "name": "stdout",
     "output_type": "stream",
     "text": [
      "CPU times: total: 7min 7s\n",
      "Wall time: 7min 51s\n"
     ]
    }
   ],
   "execution_count": 102
  },
  {
   "metadata": {
    "ExecuteTime": {
     "end_time": "2025-02-09T19:09:45.476965Z",
     "start_time": "2025-02-09T19:09:45.473685Z"
    }
   },
   "cell_type": "code",
   "source": "best_model_info",
   "id": "a84b0437ed6f434e",
   "outputs": [
    {
     "data": {
      "text/plain": [
       "{'n_estimators': 1000,\n",
       " 'max_depth': 15,\n",
       " 'test_score': 0.39305816135084426,\n",
       " 'cv_scores': array([0.40797186, 0.41207503, 0.39120235, 0.40117302, 0.41466276]),\n",
       " 'avg_cv_scores': np.float64(0.4054170032969715),\n",
       " 'train_accuracy': 0.9890934678081389,\n",
       " 'test_accuracy': 0.39305816135084426}"
      ]
     },
     "execution_count": 103,
     "metadata": {},
     "output_type": "execute_result"
    }
   ],
   "execution_count": 103
  },
  {
   "metadata": {
    "ExecuteTime": {
     "end_time": "2025-02-09T19:09:45.623620Z",
     "start_time": "2025-02-09T19:09:45.620504Z"
    }
   },
   "cell_type": "code",
   "source": [
    "lee_house = pd.DataFrame({\n",
    "    'Sale_amount': [350000],\n",
    "    'Sale_date': [43201],\n",
    "    'Beds': [3],\n",
    "    'Baths': [2],\n",
    "    'Sqft_home': [1450],\n",
    "    'Sqft_lot': [40000],\n",
    "    'Type': [3],\n",
    "    'Build_year': [1992]\n",
    "})"
   ],
   "id": "e25978b40a2cebba",
   "outputs": [],
   "execution_count": 104
  },
  {
   "metadata": {
    "ExecuteTime": {
     "end_time": "2025-02-09T19:09:45.664296Z",
     "start_time": "2025-02-09T19:09:45.640570Z"
    }
   },
   "cell_type": "code",
   "source": [
    "predicted_town = best_model.predict(lee_house)\n",
    "print(\"Predicted Town: \", predicted_town[0])"
   ],
   "id": "61d3b6c3b4beb209",
   "outputs": [
    {
     "name": "stdout",
     "output_type": "stream",
     "text": [
      "Predicted Town:  15\n"
     ]
    }
   ],
   "execution_count": 105
  }
 ],
 "metadata": {
  "kernelspec": {
   "display_name": "Python 3 (ipykernel)",
   "language": "python",
   "name": "python3"
  },
  "language_info": {
   "codemirror_mode": {
    "name": "ipython",
    "version": 3
   },
   "file_extension": ".py",
   "mimetype": "text/x-python",
   "name": "python",
   "nbconvert_exporter": "python",
   "pygments_lexer": "ipython3",
   "version": "3.12.7"
  }
 },
 "nbformat": 4,
 "nbformat_minor": 5
}
